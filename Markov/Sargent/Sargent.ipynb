{
 "cells": [
  {
   "cell_type": "code",
   "execution_count": 1,
   "id": "bf42ac9d",
   "metadata": {},
   "outputs": [],
   "source": [
    "import numpy as np\n",
    "from scipy.stats import norm\n",
    "\n",
    "# needed for compact printing of numpy arrays\n",
    "np.set_printoptions(suppress=True,precision=4,linewidth=np.inf) # use precision to set the number of decimal digits to display"
   ]
  },
  {
   "cell_type": "code",
   "execution_count": 2,
   "id": "9db5b470",
   "metadata": {},
   "outputs": [],
   "source": [
    "\"\"\"\n",
    "Authors: Thomas Sargent, John Stachurski\n",
    "\n",
    "Discretizes Gaussian linear AR(1) processes via Tauchen's method\n",
    "\n",
    "\"\"\"\n",
    "def approx_markov(rho, sigma_u, m=3, n=7):\n",
    "    \"\"\"\n",
    "    Computes the Markov matrix associated with a discretized version of\n",
    "    the linear Gaussian AR(1) process\n",
    "\n",
    "        y_{t+1} = rho * y_t + u_{t+1}\n",
    "\n",
    "    according to Tauchen's method.  Here {u_t} is an iid Gaussian\n",
    "    process with zero mean.\n",
    "\n",
    "    Parameters\n",
    "    ----------\n",
    "    rho : scalar(float)\n",
    "        The autocorrelation coefficient\n",
    "    sigma_u : scalar(float)\n",
    "        The standard deviation of the random process\n",
    "    m : scalar(int), optional(default=3)\n",
    "        The number of standard deviations to approximate out to\n",
    "    n : scalar(int), optional(default=7)\n",
    "        The number of states to use in the approximation\n",
    "\n",
    "    Returns\n",
    "    -------\n",
    "\n",
    "    x : array_like(float, ndim=1)\n",
    "        The state space of the discretized process\n",
    "    P : array_like(float, ndim=2)\n",
    "        The Markov transition matrix where P[i, j] is the probability\n",
    "        of transitioning from x[i] to x[j]\n",
    "\n",
    "    \"\"\"\n",
    "    F = norm(loc=0, scale=sigma_u).cdf\n",
    "\n",
    "    # standard deviation of y_t\n",
    "    std_y = np.sqrt(sigma_u**2 / (1-rho**2))\n",
    "\n",
    "    # top of discrete state space\n",
    "    x_max = m * std_y\n",
    "\n",
    "    # bottom of discrete state space\n",
    "    x_min = - x_max\n",
    "\n",
    "    # discretized state space\n",
    "    x = np.linspace(x_min, x_max, n)\n",
    "\n",
    "    step = (x_max - x_min) / (n - 1)\n",
    "    half_step = 0.5 * step\n",
    "    P = np.empty((n, n))\n",
    "\n",
    "    for i in range(n):\n",
    "        P[i, 0] = F(x[0]-rho * x[i] + half_step)\n",
    "        P[i, n-1] = 1 - F(x[n-1] - rho * x[i] - half_step)\n",
    "        for j in range(1, n-1):\n",
    "            z = x[j] - rho * x[i]\n",
    "            P[i, j] = F(z + half_step) - F(z - half_step)\n",
    "\n",
    "    return x, P\n"
   ]
  },
  {
   "cell_type": "code",
   "execution_count": 3,
   "id": "39389f4f",
   "metadata": {},
   "outputs": [
    {
     "name": "stdout",
     "output_type": "stream",
     "text": [
      "Transition Matrix:\n",
      " [[0.8688 0.1312 0.     0.     0.     0.     0.    ]\n",
      " [0.0273 0.8726 0.1001 0.     0.     0.     0.    ]\n",
      " [0.     0.0391 0.8861 0.0748 0.     0.     0.    ]\n",
      " [0.     0.     0.0547 0.8907 0.0547 0.     0.    ]\n",
      " [0.     0.     0.     0.0748 0.8861 0.0391 0.    ]\n",
      " [0.     0.     0.     0.     0.1001 0.8726 0.0273]\n",
      " [0.     0.     0.     0.     0.     0.1312 0.8688]]\n",
      "Discretized State Space:\n",
      " [-0.0961 -0.0641 -0.032   0.      0.032   0.0641  0.0961]\n"
     ]
    }
   ],
   "source": [
    "rho=0.95\n",
    "sigmae=0.01\n",
    "N=7\n",
    "m=3\n",
    "x, P = approx_markov(rho,sigmae,m,N)\n",
    "print(\"Transition Matrix:\\n\", P)\n",
    "print(\"Discretized State Space:\\n\", x)"
   ]
  },
  {
   "cell_type": "code",
   "execution_count": null,
   "id": "0a1d690b",
   "metadata": {},
   "outputs": [],
   "source": []
  }
 ],
 "metadata": {
  "kernelspec": {
   "display_name": "Python 3 (ipykernel)",
   "language": "python",
   "name": "python3"
  },
  "language_info": {
   "codemirror_mode": {
    "name": "ipython",
    "version": 3
   },
   "file_extension": ".py",
   "mimetype": "text/x-python",
   "name": "python",
   "nbconvert_exporter": "python",
   "pygments_lexer": "ipython3",
   "version": "3.10.6"
  }
 },
 "nbformat": 4,
 "nbformat_minor": 5
}
