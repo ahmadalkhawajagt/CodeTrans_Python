{
 "cells": [
  {
   "cell_type": "markdown",
   "id": "35edabe3",
   "metadata": {},
   "source": [
    "### This program solves the stochastic growth model labor leisure choice with linear quadratic dynamic programming.\n",
    "\n",
    "#### Translated from Eva Carceles-Poveda's (2003) MATLAB codes"
   ]
  },
  {
   "cell_type": "code",
   "execution_count": 1,
   "id": "3a2f9064",
   "metadata": {},
   "outputs": [],
   "source": [
    "# Importing packages\n",
    "import numpy as np\n",
    "\n",
    "# needed for compact printing of numpy arrays\n",
    "# use precision to set the number of decimal digits to display\n",
    "# use suppress=True to show values in full decimals instead of using scientific notation\n",
    "np.set_printoptions(suppress=True,precision=4,linewidth=np.inf)"
   ]
  },
  {
   "cell_type": "markdown",
   "id": "6688fad0",
   "metadata": {},
   "source": [
    "#### The riccati1 (Ricatti difference equation) function is copied below"
   ]
  },
  {
   "cell_type": "code",
   "execution_count": 2,
   "id": "d1aa5945",
   "metadata": {},
   "outputs": [],
   "source": [
    "def riccati1(U,DJ,DH,S,C,B,Sigma,beta):\n",
    "    \"\"\" Syntax: [P1,J,d] = riccati(U,DJ,DH,S,C,B,Sigma,beta)\n",
    "    \n",
    "    This function solves for the value and policy functions of a linear quadratic problem \n",
    "    by iterating on the Ricatti difference equation. The inputs are the return function at \n",
    "    steady state (U), the Jacobian and Hessian matrices (DJ and DH), the vector of states \n",
    "    (S=[z; s]), the vector of controls (C=[x]), the matrix B satisfying [1;z';s']=B[1;z;s;x] \n",
    "    the variance covariance matrix of [1 z' s'] (Sigma) and the discount factor beta.\n",
    "    \n",
    "    Translated from Eva Carceles-Poveda 2003 MATLAB code\n",
    "    \"\"\"\n",
    "\n",
    "    tolv = 1e-07\n",
    "\n",
    "    ns1, ns2 = S.shape\n",
    "    if ns2 > ns1:\n",
    "        S = S.T\n",
    "\n",
    "    ns = max(S.shape)\n",
    "\n",
    "    nc1, nc2 = C.shape\n",
    "    if nc2 > nc1:\n",
    "        C = C.T\n",
    "    \n",
    "    nc = max(C.shape)\n",
    "\n",
    "    WW = np.concatenate((S.T,C.T),axis=1).T\n",
    "    Q11 = U - WW.T@DJ + 0.5*WW.T@DH@WW\n",
    "    Q12 = 0.5*(DJ-DH@WW)\n",
    "    Q22 = 0.5*DH\n",
    "        \n",
    "    QQ = np.concatenate((np.concatenate((Q11, Q12.T),axis=1),np.concatenate((Q12,Q22),axis=1)))\n",
    "\n",
    "    nq=ns+nc+1\n",
    "\n",
    "    # Partition Q to separate states and controls \n",
    "    Qff = QQ[0:ns+1,0:ns+1]\n",
    "    Qfx = QQ[ns+1:nq,0:ns+1]\n",
    "    Qxx = QQ[nq-nc:nq,nq-nc:nq]\n",
    "    \n",
    "    # Initialize matrices\n",
    "    P0 = -0.1*np.eye((ns+1))\n",
    "    P1 = np.ones((ns+1,ns+1))\n",
    "    \n",
    "    # Iterate on Bellman's equation until convergence\n",
    "    while np.linalg.norm(np.abs(P1-P0)) > tolv:\n",
    "        P1 = P0.copy()\n",
    "        M = B.T@P0@B;\n",
    "        Mff = M[0:ns+1,0:ns+1]\n",
    "        Mfx = M[ns+1:nq,0:ns+1]\n",
    "        Mxx = M[nq-nc:nq,nq-nc:nq]\n",
    "\n",
    "        P0=Qff+beta*Mff-(Qfx+beta*Mfx).T@np.linalg.inv(Qxx+beta*Mxx)@(Qfx+beta*Mfx)   \n",
    "\n",
    "      \n",
    "\n",
    "    J = -np.linalg.inv(Qxx + beta*Mxx)@(Qfx + beta*Mfx)\n",
    "\n",
    "    d = beta/(1-beta)*np.trace(P0@Sigma)\n",
    "\n",
    "    return P1,J,d"
   ]
  },
  {
   "cell_type": "markdown",
   "id": "e704cad9",
   "metadata": {},
   "source": [
    "#### The Hodrick-Prescott filter function is copied below"
   ]
  },
  {
   "cell_type": "code",
   "execution_count": 3,
   "id": "8d84ba8d",
   "metadata": {},
   "outputs": [],
   "source": [
    "def hp1(y,w):\n",
    "\n",
    "    \"\"\" Syntax: yhp, ytr = hp1(y, w)\n",
    "    \n",
    "    This function computes the filtered series of y, using\n",
    "    a smoothing parameter w. \n",
    "    \n",
    "    The code is from I. Izvorski.\n",
    "    \"\"\"\n",
    "\n",
    "    t, s = y.shape\n",
    "    \n",
    "    if t < s:\n",
    "        y = y.T\n",
    "\n",
    "    a = 6*w + 1\n",
    "    b = -4*w\n",
    "    c = w\n",
    "    d = np.array([[c,b,a]])\n",
    "    d = np.ones((t,1))*d\n",
    "    m = np.diag(d[:,2])+np.diag(d[0:-1,1],1)+np.diag(d[0:-1,1],-1)\n",
    "    m = m+np.diag(d[0:-2,0],2)+np.diag(d[0:-2,0],-2)\n",
    "\n",
    "    m[0,0] = 1+w;       m[0,1] = -2*w;\n",
    "    m[1,0] = -2*w;      m[1,1] = 5*w+1;\n",
    "    m[-2,-2] = 5*w+1;   m[-2,-1] = -2*w;\n",
    "    m[-1,-2] = -2*w;    m[-1,-1] = 1+w;\n",
    "    \n",
    "    ytr = np.matmul(np.linalg.inv(m),y)\n",
    "    yhp = y-ytr\n",
    "\n",
    "    return yhp, ytr"
   ]
  },
  {
   "cell_type": "code",
   "execution_count": 4,
   "id": "380a23d6",
   "metadata": {},
   "outputs": [],
   "source": [
    "# Model Parameters\n",
    "beta    = 0.99     # Discount factor\n",
    "delta   = 0.025    # Depreciations\n",
    "alpha   = 0.36     # Capital's share\n",
    "rho     = 0.95     # Autocorrelation of shock\n",
    "gamma   = 1        # One plus the quarterly growth rate of technology\n",
    "sigmae  = 0.00712"
   ]
  },
  {
   "cell_type": "code",
   "execution_count": 5,
   "id": "71f15ec0",
   "metadata": {},
   "outputs": [
    {
     "name": "stdout",
     "output_type": "stream",
     "text": [
      "The steady state values of z, y, i, c, k and h are: [ 1.      1.1112  0.2849  0.8263 11.3968  0.3   ]\n"
     ]
    }
   ],
   "source": [
    "# Steady state\n",
    "zbar    =  1\n",
    "hbar    =  0.3\n",
    "kbar    =  hbar * (((gamma/beta - (1- delta )) / alpha )**(1/(alpha - 1)))\n",
    "ibar    =  (gamma - 1 + delta) * kbar\n",
    "ybar    =  (kbar**alpha)*(hbar**(1-alpha))\n",
    "cbar    =  ybar - ibar\n",
    "prodbar =  ybar / hbar\n",
    "Rbar    =  alpha*(kbar**(alpha-1))*(hbar**(1-alpha))\n",
    "wbar    =  (1-alpha)*(kbar**alpha)*(hbar**(-alpha))\n",
    "a       =  (1-hbar)*wbar/cbar\n",
    "print('The steady state values of z, y, i, c, k and h are:',np.array([zbar, ybar, ibar, cbar, kbar, hbar]))\n"
   ]
  },
  {
   "cell_type": "code",
   "execution_count": 6,
   "id": "68fd6315",
   "metadata": {},
   "outputs": [],
   "source": [
    "# Obtain a quadratic approximation of the return function\n",
    "Ubar    =  np.log(cbar) + a*np.log(1 - hbar)\n",
    "\n",
    "# Construct the quadratic expansion of the utility function\n",
    "Uz  = (kbar**alpha)*(hbar**(1-alpha))/cbar\n",
    "Uk  = alpha*zbar*(kbar**(alpha-1))*(hbar**(1-alpha))/cbar\n",
    "Ui  = -1/cbar\n",
    "Uh  = (1-alpha)*zbar*(kbar**alpha)*(hbar**(-alpha))/cbar -a/(1-hbar)\n",
    "DJ  = np.array([[Uz],[Uk],[Ui],[Uh]])\n",
    "\n",
    "c2  = cbar**2\n",
    "Ukk = ((alpha-1)*alpha*zbar*(kbar**(alpha -2))*(hbar**(1-alpha))*cbar \\\n",
    "    -(alpha*zbar*(kbar**(alpha-1))*(hbar**(1-alpha))) \\\n",
    "    *(alpha*zbar*(kbar**(alpha-1))*(hbar**(1-alpha))) )/c2\n",
    "\n",
    "Ukz = ((alpha*(kbar**(alpha-1))*(hbar**(1-alpha))*cbar \\\n",
    "    -(alpha*zbar*(kbar**(alpha-1))*(hbar**(1-alpha))) \\\n",
    "    *(kbar**alpha)*(hbar**(1-alpha))) )/c2\n",
    "\n",
    "Uki = alpha*zbar*(kbar**(alpha-1))*(hbar**(1-alpha))/c2\n",
    "\n",
    "Ukh = (((1-alpha)*alpha*zbar*(kbar**(alpha-1))*(hbar**(-alpha)))*cbar \\\n",
    "    -(alpha*zbar*(kbar**(alpha-1))*(hbar**(1-alpha))) \\\n",
    "    *((1-alpha)*zbar*(kbar**alpha)*(hbar**(-alpha))))/c2\n",
    "\n",
    "Uzz = -((kbar**(alpha))*(hbar**(1-alpha)) \\\n",
    "    *(kbar**(alpha))*(hbar**(1-alpha)))/c2\n",
    "\n",
    "Uzi = (kbar**(alpha))*(hbar**(1-alpha))/c2\n",
    "\n",
    "Uzh = ((1-alpha)*(kbar**(alpha))*(hbar**(-alpha))*cbar \\\n",
    "    -(kbar**(alpha))*(hbar**(1-alpha)) \\\n",
    "    *((1-alpha)*zbar*(kbar**(alpha))*(hbar**(-alpha))))/c2\n",
    "\n",
    "Uii = -1/c2\n",
    "Uih = ((1-alpha)*zbar*(kbar**(alpha))*(hbar**(-alpha)))/c2\n",
    "\n",
    "Uhh = ((-alpha*(1-alpha)*zbar*(kbar**(alpha))*(hbar**(-alpha-1)))*cbar \\\n",
    "    - ((1-alpha)*zbar*(kbar**(alpha))*(hbar**(-alpha))) \\\n",
    "    *((1-alpha)*zbar*(kbar**(alpha))*(hbar**(-alpha))))/c2 -a/((1-hbar)**2);\n",
    "\n",
    "DH = np.array([[Uzz, Ukz, Uzi, Uzh], [Ukz, Ukk, Uki, Ukh], [Uzi, Uki, Uii, Uih], [Uzh, Ukh, Uih, Uhh]])\n",
    "\n",
    "S = np.array([[zbar], [kbar]])\n",
    "C = np.array([[ibar], [hbar]])\n",
    "\n",
    "B = np.array([[1, 0, 0, 0, 0], [1-rho, rho, 0, 0, 0], [0 , 0, 1-delta, 1, 0]])\n",
    "\n",
    "Sigma = np.array([[0, 0, 0], [0, sigmae**2, 0], [0, 0, 0]])"
   ]
  },
  {
   "cell_type": "code",
   "execution_count": 7,
   "id": "b0bd96c0",
   "metadata": {},
   "outputs": [],
   "source": [
    "# Calculate the value function\n",
    "P,J,d = riccati1(Ubar,DJ,DH,S,C,B,Sigma,beta)"
   ]
  },
  {
   "cell_type": "code",
   "execution_count": 8,
   "id": "f2c674cf",
   "metadata": {},
   "outputs": [
    {
     "name": "stdout",
     "output_type": "stream",
     "text": [
      " The optimal value function is [1 z s]P0[1; z; s]+d, where P and d are given by:\n",
      "[[-138.1161   15.6227    1.186 ]\n",
      " [  15.6227   -1.9081   -0.2118]\n",
      " [   1.186    -0.2118   -0.0319]]\n",
      "-0.0096\n",
      " The policy function is x=J[1; z; s] where J is:\n",
      "[[-0.7867  1.3249 -0.0222]\n",
      " [ 0.1494  0.2289 -0.0069]]\n"
     ]
    }
   ],
   "source": [
    "print(' The optimal value function is [1 z s]P0[1; z; s]+d, where P and d are given by:')\n",
    "print(P)\n",
    "print(round(d,4))\n",
    "\n",
    "print(' The policy function is x=J[1; z; s] where J is:')\n",
    "print(J)"
   ]
  },
  {
   "cell_type": "code",
   "execution_count": 9,
   "id": "469d13c3",
   "metadata": {},
   "outputs": [
    {
     "name": "stdout",
     "output_type": "stream",
     "text": [
      "HANSEN: std(x)/std(y) corr(x,y) for y, i, c, k, h, prod:\n",
      "[[1.     1.    ]\n",
      " [3.1176 0.99  ]\n",
      " [0.3088 0.89  ]\n",
      " [0.2647 0.06  ]\n",
      " [0.5147 0.98  ]\n",
      " [0.5    0.98  ]]\n",
      "std(x) std(x)/std(y) corr(x,y) for y, i, c, k, h, prod:\n",
      "[[1.3417 1.     1.    ]\n",
      " [4.2282 3.1514 0.9903]\n",
      " [0.4164 0.3103 0.8954]\n",
      " [0.3591 0.2676 0.0693]\n",
      " [0.6899 0.5142 0.9824]\n",
      " [0.6766 0.5043 0.9818]]\n"
     ]
    }
   ],
   "source": [
    "# simulate the artificial economy\n",
    "T = 115\n",
    "N = 100\n",
    "ss_mat = np.zeros((N,6))\n",
    "cc_mat = np.zeros((N,6))\n",
    "rng = np.random.Generator(np.random.MT19937())\n",
    "\n",
    "for j in np.arange(0,N):\n",
    "    r = rng.standard_normal((T+1,1))\n",
    "    z = np.ones((T+1,1))\n",
    "    z[0] = 1\n",
    "    k = np.zeros((T+1,1))\n",
    "    k[0] = kbar\n",
    "    i = np.zeros((T,1))\n",
    "    c = np.zeros((T,1))\n",
    "    y = np.zeros((T,1))\n",
    "    h = np.zeros((T,1))\n",
    "    prod = np.zeros((T,1))\n",
    "\n",
    "    for t in np.arange(0,T):\n",
    "        i[t] = J[0,:]@np.array([[1],z[t],k[t]])\n",
    "        h[t] = J[1,:]@np.array([[1],z[t],k[t]])\n",
    "        y[t] = z[t]*k[t]**alpha*h[t]**(1-alpha)\n",
    "\n",
    "        c[t] = y[t]-i[t]\n",
    "        k[t+1] = (1-delta)*k[t] + i[t]\n",
    "        z[t+1] = 1-rho+rho*z[t]+sigmae*r[t]\n",
    "        prod[t] = y[t]/h[t]\n",
    "        \n",
    "\n",
    "    z = z[0:T]\n",
    "    k = np.log(k[0:T])\n",
    "    y = np.log(y[0:T])\n",
    "    c = np.log(c)\n",
    "    i = np.log(i)\n",
    "    h = np.log(h[0:T])\n",
    "    prod = np.log(prod)\n",
    "\n",
    "    dhp, dtr = hp1(np.concatenate((y, i, c, k, h, prod),axis=1),1600)\n",
    "    ss_mat[j,:] = np.std(dhp,axis=0,ddof=1)*100\n",
    "    Corr = np.corrcoef(dhp,rowvar=False)\n",
    "    cc_mat[j,:] = Corr[:,0]\n",
    "\n",
    "std = np.mean(ss_mat,axis=0)\n",
    "corr = np.mean(cc_mat,axis=0)\n",
    "\n",
    "print('HANSEN: std(x)/std(y) corr(x,y) for y, i, c, k, h, prod:')\n",
    "print(np.concatenate((np.array([[1.36, 4.24, 0.42, 0.36, 0.7, 0.68]]).T/1.36, \\\n",
    "                      np.array([[1, 0.99, 0.89, 0.06, 0.98, 0.98]]).T),axis=1))\n",
    "print('std(x) std(x)/std(y) corr(x,y) for y, i, c, k, h, prod:')\n",
    "print(np.concatenate((std[:,np.newaxis], (std/std[0])[:,np.newaxis], \\\n",
    "                      corr[:,np.newaxis]),axis=1))\n",
    "\n"
   ]
  },
  {
   "cell_type": "code",
   "execution_count": 10,
   "id": "2009ffb7",
   "metadata": {},
   "outputs": [],
   "source": [
    "#!jupyter nbconvert --to script hansenLQDP.ipynb"
   ]
  },
  {
   "cell_type": "code",
   "execution_count": null,
   "id": "55a82938",
   "metadata": {},
   "outputs": [],
   "source": []
  }
 ],
 "metadata": {
  "kernelspec": {
   "display_name": "Python 3 (ipykernel)",
   "language": "python",
   "name": "python3"
  },
  "language_info": {
   "codemirror_mode": {
    "name": "ipython",
    "version": 3
   },
   "file_extension": ".py",
   "mimetype": "text/x-python",
   "name": "python",
   "nbconvert_exporter": "python",
   "pygments_lexer": "ipython3",
   "version": "3.10.9"
  }
 },
 "nbformat": 4,
 "nbformat_minor": 5
}
