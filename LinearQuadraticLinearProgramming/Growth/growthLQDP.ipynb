{
 "cells": [
  {
   "cell_type": "markdown",
   "id": "59adecf1",
   "metadata": {},
   "source": [
    "### This program solves the stochastic growth model with linear quadratic dynamic programming.\n",
    "\n",
    "#### Translated from Eva Carceles-Poveda's (2003) MATLAB codes"
   ]
  },
  {
   "cell_type": "code",
   "execution_count": 1,
   "id": "9f95c6d7",
   "metadata": {},
   "outputs": [],
   "source": [
    "# Importing packages\n",
    "import numpy as np\n",
    "\n",
    "# needed for compact printing of numpy arrays\n",
    "# use precision to set the number of decimal digits to display\n",
    "# use suppress=True to show values in full decimals instead of using scientific notation\n",
    "np.set_printoptions(suppress=True,precision=4,linewidth=np.inf)"
   ]
  },
  {
   "cell_type": "markdown",
   "id": "1046855f",
   "metadata": {},
   "source": [
    "#### The riccati1 (Ricatti difference equation) function is copied below"
   ]
  },
  {
   "cell_type": "code",
   "execution_count": 2,
   "id": "853c82b6",
   "metadata": {},
   "outputs": [],
   "source": [
    "def riccati1(U,DJ,DH,S,C,B,Sigma,beta):\n",
    "    \"\"\" Syntax: [P1,J,d] = riccati(U,DJ,DH,S,C,B,Sigma,beta)\n",
    "    \n",
    "    This function solves for the value and policy functions of a linear quadratic problem \n",
    "    by iterating on the Ricatti difference equation. The inputs are the return function at \n",
    "    steady state (U), the Jacobian and Hessian matrices (DJ and DH), the vector of states \n",
    "    (S=[z; s]), the vector of controls (C=[x]), the matrix B satisfying [1;z';s']=B[1;z;s;x] \n",
    "    the variance covariance matrix of [1 z' s'] (Sigma) and the discount factor beta.\n",
    "    \n",
    "    Translated from Eva Carceles-Poveda 2003 MATLAB code\n",
    "    \"\"\"\n",
    "\n",
    "    tolv = 1e-07\n",
    "\n",
    "    ns1, ns2 = S.shape\n",
    "    if ns2 > ns1:\n",
    "        S = S.T\n",
    "\n",
    "    ns = max(S.shape)\n",
    "\n",
    "    nc1, nc2 = C.shape\n",
    "    if nc2 > nc1:\n",
    "        C = C.T\n",
    "    \n",
    "    nc = max(C.shape)\n",
    "\n",
    "    WW = np.concatenate((S.T,C.T),axis=1).T\n",
    "    Q11 = U - WW.T@DJ + 0.5*WW.T@DH@WW\n",
    "    Q12 = 0.5*(DJ-DH@WW)\n",
    "    Q22 = 0.5*DH\n",
    "        \n",
    "    QQ = np.concatenate((np.concatenate((Q11, Q12.T),axis=1),np.concatenate((Q12,Q22),axis=1)))\n",
    "\n",
    "    nq=ns+nc+1\n",
    "\n",
    "    # Partition Q to separate states and controls \n",
    "    Qff = QQ[0:ns+1,0:ns+1]\n",
    "    Qfx = QQ[ns+1:nq,0:ns+1]\n",
    "    Qxx = QQ[nq-nc:nq,nq-nc:nq]\n",
    "    \n",
    "    # Initialize matrices\n",
    "    P0 = -0.1*np.eye((ns+1))\n",
    "    P1 = np.ones((ns+1,ns+1))\n",
    "    \n",
    "    # Iterate on Bellman's equation until convergence\n",
    "    while np.linalg.norm(np.abs(P1-P0)) > tolv:\n",
    "        P1 = P0.copy()\n",
    "        M = B.T@P0@B;\n",
    "        Mff = M[0:ns+1,0:ns+1]\n",
    "        Mfx = M[ns+1:nq,0:ns+1]\n",
    "        Mxx = M[nq-nc:nq,nq-nc:nq]\n",
    "\n",
    "        P0=Qff+beta*Mff-(Qfx+beta*Mfx).T@np.linalg.inv(Qxx+beta*Mxx)@(Qfx+beta*Mfx)   \n",
    "\n",
    "      \n",
    "\n",
    "    J = -np.linalg.inv(Qxx + beta*Mxx)@(Qfx + beta*Mfx)\n",
    "\n",
    "    d = beta/(1-beta)*np.trace(P0@Sigma)\n",
    "\n",
    "    return P1,J,d"
   ]
  },
  {
   "cell_type": "markdown",
   "id": "d4616873",
   "metadata": {},
   "source": [
    "#### The Hodrick-Prescott filter function is copied below"
   ]
  },
  {
   "cell_type": "code",
   "execution_count": 3,
   "id": "129fcf69",
   "metadata": {},
   "outputs": [],
   "source": [
    "def hp1(y,w):\n",
    "\n",
    "    \"\"\" Syntax: yhp, ytr = hp1(y, w)\n",
    "    \n",
    "    This function computes the filtered series of y, using\n",
    "    a smoothing parameter w. \n",
    "    \n",
    "    The code is from I. Izvorski.\n",
    "    \"\"\"\n",
    "\n",
    "    t, s = y.shape\n",
    "    \n",
    "    if t < s:\n",
    "        y = y.T\n",
    "\n",
    "    a = 6*w + 1\n",
    "    b = -4*w\n",
    "    c = w\n",
    "    d = np.array([[c,b,a]])\n",
    "    d = np.ones((t,1))*d\n",
    "    m = np.diag(d[:,2])+np.diag(d[0:-1,1],1)+np.diag(d[0:-1,1],-1)\n",
    "    m = m+np.diag(d[0:-2,0],2)+np.diag(d[0:-2,0],-2)\n",
    "\n",
    "    m[0,0] = 1+w;       m[0,1] = -2*w;\n",
    "    m[1,0] = -2*w;      m[1,1] = 5*w+1;\n",
    "    m[-2,-2] = 5*w+1;   m[-2,-1] = -2*w;\n",
    "    m[-1,-2] = -2*w;    m[-1,-1] = 1+w;\n",
    "    \n",
    "    ytr = np.matmul(np.linalg.inv(m),y)\n",
    "    yhp = y-ytr\n",
    "\n",
    "    return yhp, ytr"
   ]
  },
  {
   "cell_type": "code",
   "execution_count": 4,
   "id": "f127e985",
   "metadata": {},
   "outputs": [],
   "source": [
    "# Model Parameters\n",
    "alf = 0.33\n",
    "beta = 0.96\n",
    "rho = 0.95\n",
    "delta = 0.10\n",
    "tolv = 1e-07\n",
    "sigmae = 0.007"
   ]
  },
  {
   "cell_type": "code",
   "execution_count": 5,
   "id": "ff4be886",
   "metadata": {},
   "outputs": [],
   "source": [
    "# Steady state\n",
    "zs = 0\n",
    "ks = (np.exp(zs)*alf*beta/(1-beta*(1-delta)))**(1/(1-alf))\n",
    "ins = delta*ks\n",
    "cs = np.exp(zs)*ks**alf-ins"
   ]
  },
  {
   "cell_type": "code",
   "execution_count": 6,
   "id": "d0ae3f27",
   "metadata": {},
   "outputs": [],
   "source": [
    "# Construct the quadratic expansion of the utility function\n",
    "R = np.log(cs)\n",
    "\n",
    "DJ = np.zeros((3,1))\n",
    "DJ[0,0] = (np.exp(zs)*ks**alf)/cs #Jz\n",
    "DJ[1,0] = (np.exp(zs)*alf*ks**(alf-1))/cs #Jk\n",
    "DJ[2,0] = (-1)/cs #Jx\n",
    "\n",
    "Hzz = ((np.exp(zs)*ks**alf)*cs - (np.exp(zs)*ks**alf)**2 )/(cs**2)\n",
    "Hkk = (((np.exp(zs)*alf*(alf-1)*ks**(alf-2))*cs)-(np.exp(zs)*alf*ks**(alf-1))**2 )/(cs**2)\n",
    "Hxx = (-1)/(cs**2)\n",
    "Hzk = (((np.exp(zs)*alf*ks**(alf-1))*cs) - (np.exp(zs)*ks**alf*np.exp(zs)*alf*ks**(alf-1)))/(cs**2)\n",
    "Hzx = (np.exp(zs)*ks**alf)/(cs**2)\n",
    "Hkx = (np.exp(zs)*alf*ks**(alf-1))/(cs**2)\n",
    "\n",
    "DH = np.array([[Hzz, Hzk, Hzx],\n",
    "    [Hzk, Hkk, Hkx],\n",
    "    [Hzx, Hkx, Hxx]])\n",
    "\n",
    "S = np.array([[zs, ks]])\n",
    "C = np.array([[ins]])"
   ]
  },
  {
   "cell_type": "code",
   "execution_count": 7,
   "id": "723387f5",
   "metadata": {},
   "outputs": [],
   "source": [
    "# Define input matrix B\n",
    "B = np.array([[1, 0, 0, 0],\n",
    "    [0, rho, 0, 0],\n",
    "    [0, 0, 1-delta, 1]])\n",
    "\n",
    "# Define the variance covariance matrix\n",
    "Sigma = np.array([[0,0,0],[0,sigmae**2,0],[0,0,0]])"
   ]
  },
  {
   "cell_type": "code",
   "execution_count": 8,
   "id": "c870ea6a",
   "metadata": {},
   "outputs": [],
   "source": [
    "P,J,d = riccati1(R,DJ,DH,S,C,B,Sigma,beta)"
   ]
  },
  {
   "cell_type": "code",
   "execution_count": 9,
   "id": "e08dac6a",
   "metadata": {},
   "outputs": [
    {
     "name": "stdout",
     "output_type": "stream",
     "text": [
      " The optimal value function is [1 z s]P0[1; z; s]+d, where P and d are given by:\n",
      "[[-0.4025  8.0839  0.7369]\n",
      " [ 8.0839  1.0029 -0.1915]\n",
      " [ 0.7369 -0.1915 -0.0819]]\n",
      "0.0012\n",
      " The policy function is x=J[1; z; s] where J is:\n",
      "[[ 0.4983  0.8607 -0.0411]]\n"
     ]
    }
   ],
   "source": [
    "print(' The optimal value function is [1 z s]P0[1; z; s]+d, where P and d are given by:')\n",
    "print(P)\n",
    "print(round(d,4))\n",
    "\n",
    "print(' The policy function is x=J[1; z; s] where J is:')\n",
    "print(J)"
   ]
  },
  {
   "cell_type": "code",
   "execution_count": 10,
   "id": "fbcf957f",
   "metadata": {},
   "outputs": [
    {
     "name": "stdout",
     "output_type": "stream",
     "text": [
      "std(x) std(x)/std(y) corr(x,y) for y, c, i, k:\n",
      "[[0.9634 1.     1.    ]\n",
      " [0.6802 0.706  0.9526]\n",
      " [2.1185 2.199  0.9468]\n",
      " [0.629  0.6529 0.4391]]\n"
     ]
    }
   ],
   "source": [
    "# Simulation of the model\n",
    "T = 115\n",
    "N = 100\n",
    "ss = np.zeros((N,4))\n",
    "cc = np.zeros((N,4))\n",
    "rng = np.random.Generator(np.random.MT19937())\n",
    "\n",
    "for j in np.arange(0,N):\n",
    "    r = rng.standard_normal((T+1,1))\n",
    "    z = np.ones((T+1,1))\n",
    "    z[0] = 0\n",
    "    k = np.zeros((T+1,1))\n",
    "    k[0] = ks\n",
    "    i = np.zeros((T,1))\n",
    "    c = np.zeros((T,1))\n",
    "    y = np.zeros((T,1))\n",
    "\n",
    "    for t in np.arange(0,T):\n",
    "        y[t] = np.exp(z[t])*k[t]**alf\n",
    "        i[t] = J@np.array([[1],z[t],k[t]])\n",
    "        c[t] = y[t]-i[t]\n",
    "        k[t+1] = (1-delta)*k[t] + i[t]\n",
    "        z[t+1] = rho*z[t]+sigmae*r[t]\n",
    "\n",
    "\n",
    "    z = z[0:T]\n",
    "    k = np.log(k[0:T])\n",
    "    y = np.log(y[0:T])\n",
    "    c = np.log(c)\n",
    "    i = np.log(i)\n",
    "\n",
    "    dhp, dtr = hp1(np.concatenate((y, c, i, k),axis=1),1600)\n",
    "    ss[j,:] = np.std(dhp,axis=0,ddof=1)*100\n",
    "    Corr = np.corrcoef(dhp,rowvar=False)\n",
    "    cc[j,:] = Corr[:,0]\n",
    "\n",
    "stdv = np.mean(ss,axis=0)\n",
    "corr = np.mean(cc,axis=0)\n",
    "\n",
    "print('std(x) std(x)/std(y) corr(x,y) for y, c, i, k:')\n",
    "print(np.concatenate((stdv[:,np.newaxis], (stdv/stdv[0])[:,np.newaxis], \\\n",
    "                      corr[:,np.newaxis]),axis=1))\n",
    "\n"
   ]
  },
  {
   "cell_type": "code",
   "execution_count": 11,
   "id": "3bf41106",
   "metadata": {},
   "outputs": [],
   "source": [
    "#!jupyter nbconvert --to script growthLQDP.ipynb"
   ]
  },
  {
   "cell_type": "code",
   "execution_count": null,
   "id": "891756ec",
   "metadata": {},
   "outputs": [],
   "source": []
  }
 ],
 "metadata": {
  "kernelspec": {
   "display_name": "Python 3 (ipykernel)",
   "language": "python",
   "name": "python3"
  },
  "language_info": {
   "codemirror_mode": {
    "name": "ipython",
    "version": 3
   },
   "file_extension": ".py",
   "mimetype": "text/x-python",
   "name": "python",
   "nbconvert_exporter": "python",
   "pygments_lexer": "ipython3",
   "version": "3.10.9"
  }
 },
 "nbformat": 4,
 "nbformat_minor": 5
}
